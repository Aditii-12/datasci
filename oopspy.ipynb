{
  "nbformat": 4,
  "nbformat_minor": 0,
  "metadata": {
    "colab": {
      "provenance": [],
      "authorship_tag": "ABX9TyO93pQQwfCiZ+fyz1Ikhm8u",
      "include_colab_link": true
    },
    "kernelspec": {
      "name": "python3",
      "display_name": "Python 3"
    },
    "language_info": {
      "name": "python"
    }
  },
  "cells": [
    {
      "cell_type": "markdown",
      "metadata": {
        "id": "view-in-github",
        "colab_type": "text"
      },
      "source": [
        "<a href=\"https://colab.research.google.com/github/Aditii-12/datasci/blob/main/oopspy.ipynb\" target=\"_parent\"><img src=\"https://colab.research.google.com/assets/colab-badge.svg\" alt=\"Open In Colab\"/></a>"
      ]
    },
    {
      "cell_type": "code",
      "execution_count": 27,
      "metadata": {
        "colab": {
          "base_uri": "https://localhost:8080/"
        },
        "id": "_YdalNkriVFG",
        "outputId": "f5e94414-f218-4bee-f606-602c02d472e4"
      },
      "outputs": [
        {
          "output_type": "stream",
          "name": "stdout",
          "text": [
            "<class 'list'>\n"
          ]
        }
      ],
      "source": [
        "L=[1,2,3]\n",
        "print(type(L))"
      ]
    },
    {
      "cell_type": "markdown",
      "source": [
        "#syntax to create object\n",
        ">objectname=classname()"
      ],
      "metadata": {
        "id": "bfknbke5oSau"
      }
    },
    {
      "cell_type": "code",
      "source": [
        "L=list()\n",
        "L"
      ],
      "metadata": {
        "colab": {
          "base_uri": "https://localhost:8080/"
        },
        "id": "wAA-9dK8m_H1",
        "outputId": "fc93d562-e7b0-44fc-ca95-231da39b1a10"
      },
      "execution_count": 28,
      "outputs": [
        {
          "output_type": "execute_result",
          "data": {
            "text/plain": [
              "[]"
            ]
          },
          "metadata": {},
          "execution_count": 28
        }
      ]
    },
    {
      "cell_type": "code",
      "source": [
        "s=str()\n",
        "s"
      ],
      "metadata": {
        "colab": {
          "base_uri": "https://localhost:8080/",
          "height": 35
        },
        "id": "HUAM0MO9ofLQ",
        "outputId": "c07a979c-44cd-4d5e-bb97-32d14d4d0363"
      },
      "execution_count": 29,
      "outputs": [
        {
          "output_type": "execute_result",
          "data": {
            "text/plain": [
              "''"
            ],
            "application/vnd.google.colaboratory.intrinsic+json": {
              "type": "string"
            }
          },
          "metadata": {},
          "execution_count": 29
        }
      ]
    },
    {
      "cell_type": "markdown",
      "source": [
        "#creation of first class"
      ],
      "metadata": {
        "id": "CWwJlFnmp-Qg"
      }
    },
    {
      "cell_type": "code",
      "source": [
        "from ast import Pass\n",
        "class Atm:\n",
        "  def __init__(self):\n",
        "    self.pin=''\n",
        "    self.balance=0\n",
        "    self.menu()\n",
        "\n",
        "  def menu(self) :\n",
        "    user_input=input(\"\"\"\n",
        "    Hi, what do u want to do?\n",
        "    1.Create a pin-press 1\n",
        "    2.Change your pin-press 2\n",
        "    3.To check balance-press 3\n",
        "    4.To withdraw-press 4\n",
        "    5.Anything else to exit\n",
        "\n",
        "    \"\"\")\n",
        "    if user_input=='1':\n",
        "      self.create_pin()\n",
        "    elif user_input=='2':\n",
        "      self.change_pin()\n",
        "      #change pin\n",
        "    elif user_input=='3':\n",
        "      self.check_balance()\n",
        "    elif user_input=='4':\n",
        "      self.withdraw()\n",
        "    else:\n",
        "      exit()\n",
        "  def create_pin(self):\n",
        "    self.pin=input('enter your pin')\n",
        "    self.balance=input('enter your balance')\n",
        "    print('pin is successfully created')\n",
        "    self.menu()\n",
        "  def change_pin(self):\n",
        "    old_pin=input('enter old pin')\n",
        "    if old_pin==self.pin:\n",
        "      self.pin=input('enter new pin')\n",
        "      print('pin changed successfully')\n",
        "      self.menu()\n",
        "    else:\n",
        "      print(\"nhi ho skta jao bye\")\n",
        "      self.menu()\n",
        "  def check_balance(self) :\n",
        "    user_pin = input( 'enter your pin')\n",
        "    if user_pin == self. pin:\n",
        "      print( 'your balance is ' ,self.balance)\n",
        "    else:\n",
        "      print('chal nikal yahan se')\n",
        "  def withdraw(self):\n",
        "    user_pin = input ('enter the pin')\n",
        "    if user_pin == self. pin:\n",
        "    # allow to withdraw\n",
        "      amount = int(input( 'enter the amount'))\n",
        "      if amount <= self. balance:\n",
        "        self. balance = self. balance - amount\n",
        "        print( 'withdrawl successful.balance is', self.balance)\n",
        "      else:\n",
        "        print('abe garib')\n",
        "    else:\n",
        "      print('sale chor')\n",
        "    self.menu()\n",
        "\n",
        "\n"
      ],
      "metadata": {
        "id": "JbWuQkDhokK6"
      },
      "execution_count": 30,
      "outputs": []
    },
    {
      "cell_type": "markdown",
      "source": [
        "#creating a obejct inside a class"
      ],
      "metadata": {
        "id": "OVTcVDUUqHcn"
      }
    },
    {
      "cell_type": "code",
      "source": [
        "obj=Atm() #jese hi object bnaya constructor me jitne b likha h sb call hojayega"
      ],
      "metadata": {
        "colab": {
          "base_uri": "https://localhost:8080/"
        },
        "id": "0i5NuLz4qKAN",
        "outputId": "d031d8a8-f38a-413a-ab2c-eed06d853de0"
      },
      "execution_count": 31,
      "outputs": [
        {
          "output_type": "stream",
          "name": "stdout",
          "text": [
            "\n",
            "    Hi, what do u want to do?\n",
            "    1.Create a pin-press 1\n",
            "    2.Change your pin-press 2\n",
            "    3.To check balance-press 3\n",
            "    4.To withdraw-press 4\n",
            "    5.Anything else to exit\n",
            "\n",
            "    3\n",
            "enter your pin\n",
            "your balance is  0\n"
          ]
        }
      ]
    },
    {
      "cell_type": "code",
      "source": [
        "print(type(obj))"
      ],
      "metadata": {
        "colab": {
          "base_uri": "https://localhost:8080/"
        },
        "id": "a3nPcTNMqOey",
        "outputId": "2793f882-1143-450f-becb-b1ac21a280e0"
      },
      "execution_count": 32,
      "outputs": [
        {
          "output_type": "stream",
          "name": "stdout",
          "text": [
            "<class '__main__.Atm'>\n"
          ]
        }
      ]
    },
    {
      "cell_type": "code",
      "source": [
        "L=[1,2,3]\n",
        "len(L); #len is a function->bcs it is outside the list class\n",
        "L.append(5); #bcos it is inside the list class"
      ],
      "metadata": {
        "id": "Ig-MclQoqQOK"
      },
      "execution_count": 33,
      "outputs": []
    },
    {
      "cell_type": "markdown",
      "source": [
        "#Creating New DataType Using Class\n"
      ],
      "metadata": {
        "id": "bCTHvUrSY_lu"
      }
    },
    {
      "cell_type": "code",
      "source": [
        "class Fraction:\n",
        "  #parameterized constructor\n",
        "  #it will need input\n",
        "  def __init__(self,x,y):\n",
        "    self.num=x\n",
        "    self.den=y\n",
        "  def __str__(self): #when object uses print(obj)\n",
        "  #by default ye function hi run hoga\n",
        "    return '{}/{}'.format(self.num,self.den)\n",
        "  def __add__(self, other) :\n",
        "    new_num = self.num*other.den+other.num*self.den\n",
        "    new_den=self.den*other.den\n",
        "    return '{}/{}'. format(new_num, new_den)\n",
        "  def __sub__(self,other):\n",
        "    new_num = self.num*other.den - other.num*self.den\n",
        "    new_den = self.den*other.den\n",
        "\n",
        "    return '{}/{}'.format(new_num,new_den)\n",
        "\n",
        "  def __mul__(self,other):\n",
        "    new_num = self.num*other.num\n",
        "    new_den = self.den*other.den\n",
        "\n",
        "    return '{}/{}'.format(new_num,new_den)\n",
        "\n",
        "  def __truediv__(self,other):\n",
        "    new_num = self.num*other.den\n",
        "    new_den = self.den*other.num\n",
        "\n",
        "    return '{}/{}'.format(new_num,new_den)\n",
        "\n",
        "  def convert_to_decimal(self):\n",
        "    return self.num/self.den\n"
      ],
      "metadata": {
        "id": "JqCVd_gLZEGR"
      },
      "execution_count": 38,
      "outputs": []
    },
    {
      "cell_type": "code",
      "source": [
        "fr1=Fraction(3,4)\n",
        "print(fr1)\n",
        "fr2=Fraction(5,6)"
      ],
      "metadata": {
        "colab": {
          "base_uri": "https://localhost:8080/"
        },
        "id": "dob4aP2-adTE",
        "outputId": "e084a148-dc58-415e-fa66-5247ea2ca665"
      },
      "execution_count": 35,
      "outputs": [
        {
          "output_type": "stream",
          "name": "stdout",
          "text": [
            "3/4\n"
          ]
        }
      ]
    },
    {
      "cell_type": "code",
      "source": [
        " print(fr1 +fr2)"
      ],
      "metadata": {
        "colab": {
          "base_uri": "https://localhost:8080/"
        },
        "id": "nFTX1zEeah5c",
        "outputId": "2d6c4998-5880-4f8c-e745-41ccfc582f99"
      },
      "execution_count": 36,
      "outputs": [
        {
          "output_type": "stream",
          "name": "stdout",
          "text": [
            "38/24\n"
          ]
        }
      ]
    },
    {
      "cell_type": "code",
      "source": [
        "print(\"aditi\")"
      ],
      "metadata": {
        "colab": {
          "base_uri": "https://localhost:8080/"
        },
        "id": "Jj-MZqk5bgCq",
        "outputId": "ccfde9c5-0dc7-45b1-be7d-875edcfbfc25"
      },
      "execution_count": 37,
      "outputs": [
        {
          "output_type": "stream",
          "name": "stdout",
          "text": [
            "aditi\n"
          ]
        }
      ]
    },
    {
      "cell_type": "code",
      "source": [],
      "metadata": {
        "id": "c1aac8L8cKVa"
      },
      "execution_count": 37,
      "outputs": []
    }
  ]
}